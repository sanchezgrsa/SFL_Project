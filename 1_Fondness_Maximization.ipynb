{
 "cells": [
  {
   "cell_type": "markdown",
   "id": "702454ec",
   "metadata": {},
   "source": [
    "## Matrix Creation"
   ]
  },
  {
   "cell_type": "code",
   "execution_count": 1,
   "id": "5d859c86",
   "metadata": {},
   "outputs": [
    {
     "data": {
      "text/plain": [
       "56"
      ]
     },
     "execution_count": 1,
     "metadata": {},
     "output_type": "execute_result"
    }
   ],
   "source": [
    "# Problem statement: Linear Assigment Solver \n",
    "\n",
    "# Importing necessary libraries\n",
    "\n",
    "import numpy as np \n",
    "import time\n",
    "from scipy.optimize import linear_sum_assignment\n",
    "import lap\n",
    "\n",
    "N = 7 # Paintings are the rows\n",
    "M = 8 # Client's Fondness are columns\n",
    "\n",
    "array = np.random.random((N,M)) # Creating the array for the optimization algorithm\n",
    "index = len(array)\n",
    "array.size"
   ]
  },
  {
   "cell_type": "markdown",
   "id": "1c7fcde9",
   "metadata": {},
   "source": [
    "## Brute Force Approach\n"
   ]
  },
  {
   "cell_type": "code",
   "execution_count": 2,
   "id": "7a033467",
   "metadata": {},
   "outputs": [
    {
     "name": "stdout",
     "output_type": "stream",
     "text": [
      "Maximum Fondness: 5.599176114364473\n",
      "Painting Distribution [1, 7, 5, 2, 6, 4, 3]\n",
      "--- 0.5923218727111816 seconds ---\n"
     ]
    }
   ],
   "source": [
    "# This approach will brute forced all the possible solutions, it is not executable for higher dimensions (n > 15)\n",
    "\n",
    "start_time = time.time()\n",
    "# It gives you a matrix with all the possible permutation to go over the array without visiting one place more than one \n",
    "\n",
    "def combinations(t, permutations):\n",
    "    if len(t) == 1:\n",
    "        permutations.append(t)\n",
    "    else:\n",
    "        for i in range(0, len(t)):\n",
    "            element = t[i]\n",
    "            t_copy = [t[j] for j in range(0, len(t)) if j != i]\n",
    "            sub = []\n",
    "            combinations(t_copy, sub)\n",
    "            for s in sub:\n",
    "                result = [element] + s\n",
    "                permutations.append( result)\n",
    "\n",
    "# We have to make the matrix square so we add as many rows as neccesary until M = N\n",
    "add_row = np.zeros((M,), dtype = int)\n",
    "square_array = array\n",
    "while N != M: \n",
    "        square_array = np.vstack((square_array, add_row))\n",
    "        N += 1        \n",
    "square_array = np.array(square_array)   \n",
    "permutations = []\n",
    "combinations(range(len(square_array)), permutations) \n",
    "fondness = float(\"-inf\")\n",
    "columns = np.arange(N)\n",
    "for indexes in permutations:\n",
    "    new_fondness = square_array[columns, indexes].sum()\n",
    "    fondness = max(fondness, new_fondness)\n",
    "    if fondness == new_fondness: \n",
    "        clients = indexes\n",
    "\n",
    "\n",
    "print(\"Maximum Fondness:\", fondness)\n",
    "print(\"Painting Distribution\", clients[:index])\n",
    "print(\"--- %s seconds ---\" % (time.time() - start_time))\n"
   ]
  },
  {
   "cell_type": "markdown",
   "id": "1b61fafd",
   "metadata": {},
   "source": [
    "## Linear Sum Assigment Implementation"
   ]
  },
  {
   "cell_type": "code",
   "execution_count": 3,
   "id": "12db65a4",
   "metadata": {},
   "outputs": [
    {
     "name": "stdout",
     "output_type": "stream",
     "text": [
      "Maximum Fondness: 5.599176114364473\n",
      "Painting Distribution [1 7 5 2 6 4 3]\n",
      "--- 0.002947092056274414 seconds ---\n"
     ]
    }
   ],
   "source": [
    "start_time = time.time()\n",
    "\n",
    "# We have to make the matrix square so we add as many rows as neccesary until M = N\n",
    "\n",
    "add_row = np.zeros((M,), dtype = int)\n",
    "square_array = array\n",
    "\n",
    "while N != M: \n",
    "        square_array = np.vstack((square_array, add_row))\n",
    "        N += 1        \n",
    "square_array = np.array(square_array)  \n",
    "\n",
    "opt_row, opt_col = linear_sum_assignment(square_array, maximize=True)\n",
    "opt_row = opt_row[:index]\n",
    "opt_col = opt_col[:index]\n",
    "fondness = array[opt_row, opt_col].sum()\n",
    "\n",
    "print(\"Maximum Fondness:\", fondness)\n",
    "print(\"Painting Distribution\", opt_col)\n",
    "print(\"--- %s seconds ---\" % (time.time() - start_time))\n"
   ]
  },
  {
   "cell_type": "markdown",
   "id": "08ec217c",
   "metadata": {},
   "source": [
    "## LAPJV Implementation\n"
   ]
  },
  {
   "cell_type": "code",
   "execution_count": 4,
   "id": "2c8cfefa",
   "metadata": {},
   "outputs": [
    {
     "name": "stdout",
     "output_type": "stream",
     "text": [
      "Maximum Fondness: 5.599176114364473\n",
      "Painting Distribution [1 7 5 2 6 4 3]\n",
      "--- 0.0009438991546630859 seconds ---\n"
     ]
    }
   ],
   "source": [
    "start_time = time.time()\n",
    "\n",
    "array = -1*array # This algorithm minimizes the fondness. \n",
    "                 # Maximizing a matrix A is equal to minimizing the matrix -A and multyplying that number by -1\n",
    "\n",
    "    \n",
    "fondness, opt_row, opt_col = lap.lapjv(array, extend_cost=True)\n",
    "print(\"Maximum Fondness:\", (-1)*fondness)\n",
    "print(\"Painting Distribution\", opt_row)\n",
    "\n",
    "print(\"--- %s seconds ---\" % (time.time() - start_time))\n",
    "array = -1*array\n"
   ]
  },
  {
   "cell_type": "code",
   "execution_count": null,
   "id": "4751f9e6",
   "metadata": {},
   "outputs": [],
   "source": []
  }
 ],
 "metadata": {
  "kernelspec": {
   "display_name": "Python 3",
   "language": "python",
   "name": "python3"
  },
  "language_info": {
   "codemirror_mode": {
    "name": "ipython",
    "version": 3
   },
   "file_extension": ".py",
   "mimetype": "text/x-python",
   "name": "python",
   "nbconvert_exporter": "python",
   "pygments_lexer": "ipython3",
   "version": "3.7.10"
  }
 },
 "nbformat": 4,
 "nbformat_minor": 5
}
